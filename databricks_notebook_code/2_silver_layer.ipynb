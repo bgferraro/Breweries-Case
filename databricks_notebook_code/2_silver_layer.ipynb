{
 "cells": [
  {
   "cell_type": "code",
   "execution_count": 0,
   "metadata": {
    "application/vnd.databricks.v1+cell": {
     "cellMetadata": {
      "byteLimit": 2048000,
      "rowLimit": 10000
     },
     "inputWidgets": {},
     "nuid": "2bbd336b-c31e-4bbc-aa7d-0dbb9e3eb4a6",
     "showTitle": false,
     "tableResultSettingsMap": {},
     "title": ""
    }
   },
   "outputs": [
    {
     "output_type": "stream",
     "name": "stdout",
     "output_type": "stream",
     "text": [
      "+--------------------+--------------------+------------+--------------------+---------+---------+--------------+--------------+-----------+-------------+-----------+---------+------------+--------------------+-------------+--------------------+----------+\n|                  id|                name|brewery_type|           address_1|address_2|address_3|          city|state_province|postal_code|      country|  longitude| latitude|       phone|         website_url|        state|              street|updatetime|\n+--------------------+--------------------+------------+--------------------+---------+---------+--------------+--------------+-----------+-------------+-----------+---------+------------+--------------------+-------------+--------------------+----------+\n|e5f3e72a-fee2-481...|12 Acres Brewing ...|       micro|      Unnamed Street| Clonmore|     null|     Killeshin|         Laois|   R93 X3X8|      Ireland|  -6.979344|52.849308|353599107299|https://12acresbr...|        Laois|      Unnamed Street|2024-10-29|\n|d81ff708-b5d2-478...|12 Gates Brewing ...|     brewpub|80 Earhart Dr Ste 20|     null|     null| Williamsville|      New York| 14221-7804|United States|       null|     null|  7169066600|http://www.12gate...|     New York|80 Earhart Dr Ste 20|2024-10-29|\n|fb94830f-6196-4f5...|12 West Brewing C...|       micro|3000 E Ray Rd Bldg 6|     null|     null|       Gilbert|       Arizona| 85296-7832|United States|       null|     null|  6023395014|http://www.12west...|      Arizona|3000 E Ray Rd Bldg 6|2024-10-29|\n|0faa0fb2-fffa-416...|12 West Brewing C...|       micro|                null|     null|     null|          Mesa|       Arizona|      85207|United States| -111.58607|33.436188|        null|                null|      Arizona|                null|2024-10-29|\n|e54c2f02-acd6-417...| 122 West Brewing Co|      closed|    2416 Meridian St|     null|     null|    Bellingham|    Washington| 98225-2405|United States|-122.485985|48.762173|  3603063285|https://www.122we...|   Washington|    2416 Meridian St|2024-10-29|\n|d5cb896d-3e99-4e1...|         127 Brewing|       micro|     3090 Shirley Dr|     null|     null|       Jackson|      Michigan| 49201-7010|United States|  -84.43117| 42.28667|  5172581346|                null|     Michigan|     3090 Shirley Dr|2024-10-29|\n|06e9fffb-e820-45c...|    12Degree Brewing|     brewpub|         820 Main St|     null|     null|    Louisville|      Colorado| 80027-1865|United States| -105.13198|39.978245|  3035791004|http://www.12degr...|     Colorado|         820 Main St|2024-10-29|\n|5128df48-79fc-4f0...|    (405) Brewing Co|       micro|      1716 Topeka St|     null|     null|        Norman|      Oklahoma| 73069-8224|United States| -97.468185| 35.25739|  4058160490|http://www.405bre...|     Oklahoma|      1716 Topeka St|2024-10-29|\n|9c5a66c8-cc13-416...|    (512) Brewing Co|       micro|407 Radam Ln Ste ...|     null|     null|        Austin|         Texas| 78745-1197|United States|       null|     null|  5129211545|http://www.512bre...|        Texas|407 Radam Ln Ste ...|2024-10-29|\n|34e8c68b-6146-453...|1 of Us Brewing C...|       micro| 8100 Washington Ave|     null|     null|Mount Pleasant|     Wisconsin| 53406-3920|United States|  -87.88336|42.720108|  2624847553|https://www.1ofus...|    Wisconsin| 8100 Washington Ave|2024-10-29|\n|ef970757-fe42-416...|10 Barrel Brewing Co|       large|           1501 E St|     null|     null|     San Diego|    California| 92101-6618|United States| -117.12959|32.714813|  6195782311| http://10barrel.com|   California|           1501 E St|2024-10-29|\n|6d14b220-8926-452...|10 Barrel Brewing Co|       large|       62970 18th St|     null|     null|          Bend|        Oregon| 97701-9847|United States| -121.28171|44.086834|  5415851007|http://www.10barr...|       Oregon|       62970 18th St|2024-10-29|\n|e2e78bd8-80ff-4a6...|10 Barrel Brewing Co|       large|1135 NW Galveston...|     null|     null|          Bend|        Oregon| 97703-2465|United States|-121.328804|44.057564|  5415851007|                null|       Oregon|1135 NW Galveston...|2024-10-29|\n|5ae467af-66dc-4d7...|101 North Brewing...|      closed| 1304 Scott St Ste D|     null|     null|      Petaluma|    California| 94954-7100|United States|-122.665054|38.270294|  7077534934|http://www.101nor...|   California| 1304 Scott St Ste D|2024-10-29|\n|4ffda196-dd59-44a...| 105 West Brewing Co|       micro|        1043 Park St|     null|     null|   Castle Rock|      Colorado| 80109-1585|United States| -104.86672|39.382694|  3033257321|http://www.105wes...|     Colorado|        1043 Park St|2024-10-29|\n|42aa37d5-8384-4ff...|         10K Brewing|       micro|        2005 2nd Ave|     null|     null|         Anoka|     Minnesota| 55303-2243|United States|  -93.38953| 45.19812|  7633924753|  http://10KBrew.com|    Minnesota|        2005 2nd Ave|2024-10-29|\n|232e8f62-9afc-45f...|10th District Bre...|       micro|   491 Washington St|     null|     null|      Abington| Massachusetts| 02351-2419|United States|  -70.94594| 42.10592|  7813071554|http://www.10thdi...|Massachusetts|   491 Washington St|2024-10-29|\n|08f78223-24f8-4b7...|11 Below Brewing ...|       micro|   6820 Bourgeois Rd|     null|     null|       Houston|         Texas| 77066-3107|United States|  -95.51866|29.951546|  2814442337|http://www.11belo...|        Texas|   6820 Bourgeois Rd|2024-10-29|\n|58293321-14ae-49d...|     1188 Brewing Co|     brewpub|       141 E Main St|     null|     null|      John Day|        Oregon| 97845-1210|United States|-118.921875|44.414658|  5415751188|http://www.1188br...|       Oregon|       141 E Main St|2024-10-29|\n|e432899b-7f58-455...|10 Barrel Brewing Co|       large| 1411 NW Flanders St|     null|     null|      Portland|        Oregon| 97209-2620|United States| -122.68551|45.525978|  5032241700|http://www.10barr...|       Oregon| 1411 NW Flanders St|2024-10-29|\n+--------------------+--------------------+------------+--------------------+---------+---------+--------------+--------------+-----------+-------------+-----------+---------+------------+--------------------+-------------+--------------------+----------+\nonly showing top 20 rows\n\n"
     ]
    }
   ],
   "source": [
    "\n",
    "df_silver = spark.sql(\"select * from brewery_bronze.breweries\")\n",
    "df_silver.show()"
   ]
  },
  {
   "cell_type": "code",
   "execution_count": 0,
   "metadata": {
    "application/vnd.databricks.v1+cell": {
     "cellMetadata": {
      "byteLimit": 2048000,
      "rowLimit": 10000
     },
     "inputWidgets": {},
     "nuid": "0850645b-5721-4212-a18b-dd0da538ce13",
     "showTitle": false,
     "tableResultSettingsMap": {},
     "title": ""
    }
   },
   "outputs": [
    {
     "output_type": "stream",
     "name": "stdout",
     "output_type": "stream",
     "text": [
      "+----+------------+---------+---------+---------+----+--------------+-----------+-------+---------+--------+-----+-----------+-----+------+\n|name|brewery_type|address_1|address_2|address_3|city|state_province|postal_code|country|longitude|latitude|phone|website_url|state|street|\n+----+------------+---------+---------+---------+----+--------------+-----------+-------+---------+--------+-----+-----------+-----+------+\n|   0|           0|        3|       49|       50|   0|             0|          0|      0|       10|      10|    5|         11|    0|     3|\n+----+------------+---------+---------+---------+----+--------------+-----------+-------+---------+--------+-----+-----------+-----+------+\n\n"
     ]
    }
   ],
   "source": [
    "\n",
    "\n",
    "# Find Count of Null, None, NaN of All DataFrame Columns\n",
    "# Replace empty string with None for all columns\n",
    "columns_v = [ 'name', 'brewery_type', 'address_1', 'address_2', 'address_3', 'city', 'state_province', 'postal_code', 'country', \n",
    "            'longitude', 'latitude', 'phone', 'website_url', 'state', 'street' ]\n",
    "from pyspark.sql.functions import col,isnan, when, count\n",
    "df_silver.select([count(when(isnan(c) | col(c).isNull(), c)).alias(c) for c in columns_v]  ).show()"
   ]
  },
  {
   "cell_type": "code",
   "execution_count": 0,
   "metadata": {
    "application/vnd.databricks.v1+cell": {
     "cellMetadata": {
      "byteLimit": 2048000,
      "rowLimit": 10000
     },
     "inputWidgets": {},
     "nuid": "6b6a6974-db26-415d-9151-7c2244d12c93",
     "showTitle": false,
     "tableResultSettingsMap": {},
     "title": ""
    }
   },
   "outputs": [
    {
     "output_type": "stream",
     "name": "stdout",
     "output_type": "stream",
     "text": [
      "Out[3]: 50"
     ]
    }
   ],
   "source": [
    "\n",
    "# Get rid of rows without `country`\n",
    "# Commenting these out because we might not need them anymore\n",
    "df_silver = df_silver.dropna(subset=['country'])\n",
    "df_silver.count()"
   ]
  },
  {
   "cell_type": "code",
   "execution_count": 0,
   "metadata": {
    "application/vnd.databricks.v1+cell": {
     "cellMetadata": {
      "byteLimit": 2048000,
      "rowLimit": 10000
     },
     "inputWidgets": {},
     "nuid": "c21efcc0-76ee-4cbe-9096-ea6c76274a48",
     "showTitle": false,
     "tableResultSettingsMap": {},
     "title": ""
    }
   },
   "outputs": [
    {
     "output_type": "stream",
     "name": "stdout",
     "output_type": "stream",
     "text": [
      "+--------------------+---------+---------+--------------------+\n|           address_1|address_2|address_3|             address|\n+--------------------+---------+---------+--------------------+\n|141 E 4th St Ste LL2|     null|     null|141 E 4th St Ste LL2|\n|      7391 Forbes Rd|     null|     null|      7391 Forbes Rd|\n|250 Mill St, Suit...|     null|     null|250 Mill St, Suit...|\n|6410 SE Milwaukie...|     null|     null|6410 SE Milwaukie...|\n|1323 Capital Blvd...|     null|     null|1323 Capital Blvd...|\n|31125 Via Colinas...|     null|     null|31125 Via Colinas...|\n|      Unnamed Street| Clonmore|     null|Unnamed Street - ...|\n|80 Earhart Dr Ste 20|     null|     null|80 Earhart Dr Ste 20|\n|3000 E Ray Rd Bldg 6|     null|     null|3000 E Ray Rd Bldg 6|\n|                null|     null|     null|                null|\n|    2416 Meridian St|     null|     null|    2416 Meridian St|\n|     3090 Shirley Dr|     null|     null|     3090 Shirley Dr|\n|         820 Main St|     null|     null|         820 Main St|\n|       342 E Ward St|     null|     null|       342 E Ward St|\n|                null|     null|     null|                null|\n|     5725 Miller Ave|     null|     null|     5725 Miller Ave|\n|     5417 Oakley Ave|     null|     null|     5417 Oakley Ave|\n|  1301 S Chestnut St|     null|     null|  1301 S Chestnut St|\n|2045 N Forbes Blv...|     null|     null|2045 N Forbes Blv...|\n|    7324 NE 175th St|     null|     null|    7324 NE 175th St|\n+--------------------+---------+---------+--------------------+\nonly showing top 20 rows\n\n+---------------+---------------+------------+---------------+--------------+-----------+-------------+----------+---------+------------+---------------+--------------+---------------+----------+---------------+\n|             id|           name|brewery_type|           city|state_province|postal_code|      country| longitude| latitude|       phone|    website_url|         state|         street|updatetime|        address|\n+---------------+---------------+------------+---------------+--------------+-----------+-------------+----------+---------+------------+---------------+--------------+---------------+----------+---------------+\n|50521ef7-f54...|12welve Eyes...|       micro|     Saint Paul|     Minnesota| 55101-1639|United States|      null|     null|  6514938106|http://www.1...|     Minnesota|141 E 4th St...|2024-10-29|141 E 4th St...|\n|950180bd-29c...|13 Below Bre...|       micro|     Cincinnati|          Ohio| 45233-1013|United States|-84.706345|39.126396|  5139750613|http://www.1...|          Ohio| 7391 Forbes Rd|2024-10-29| 7391 Forbes Rd|\n|45119c56-345...|13 Stripes B...|     brewpub|        Taylors|South Carolina|      29687|United States|      null|     null|  8643491430|http://www.1...|South Carolina|250 Mill St,...|2024-10-29|250 Mill St,...|\n|936c3d7e-5d5...|13 Virtues B...|     brewpub|       Portland|        Oregon| 97202-5518|United States|-122.64875|45.476254|  5032393831|http://www.1...|        Oregon|6410 SE Milw...|2024-10-29|6410 SE Milw...|\n|5c53b314-eba...|     1323 R & D|       micro|        Raleigh|North Carolina| 27603-1117|United States|      null|     null|  9199775654|http://www.1...|North Carolina|1323 Capital...|2024-10-29|1323 Capital...|\n|4788221a-a03...|14 Cannons B...|       micro|Westlake Vil...|    California| 91362-3974|United States| -118.8024| 34.15334|  8186996165|http://14can...|    California|31125 Via Co...|2024-10-29|31125 Via Co...|\n|e5f3e72a-fee...|12 Acres Bre...|       micro|      Killeshin|         Laois|   R93 X3X8|      Ireland| -6.979344|52.849308|353599107299|https://12ac...|         Laois| Unnamed Street|2024-10-29|Unnamed Stre...|\n|d81ff708-b5d...|12 Gates Bre...|     brewpub|  Williamsville|      New York| 14221-7804|United States|      null|     null|  7169066600|http://www.1...|      New York|80 Earhart D...|2024-10-29|80 Earhart D...|\n|fb94830f-619...|12 West Brew...|       micro|        Gilbert|       Arizona| 85296-7832|United States|      null|     null|  6023395014|http://www.1...|       Arizona|3000 E Ray R...|2024-10-29|3000 E Ray R...|\n|0faa0fb2-fff...|12 West Brew...|       micro|           Mesa|       Arizona|      85207|United States|-111.58607|33.436188|        null|           null|       Arizona|           null|2024-10-29|           null|\n+---------------+---------------+------------+---------------+--------------+-----------+-------------+----------+---------+------------+---------------+--------------+---------------+----------+---------------+\nonly showing top 10 rows\n\n"
     ]
    }
   ],
   "source": [
    "from pyspark.sql.functions import col, when, concat_ws\n",
    "\n",
    "# as previously verified, there are nulls at address_3 in all records. address_2 requires only 1 record.\n",
    "# We can create only 1 address column\n",
    "df_silver = df_silver.withColumn(\"address\", when(col(\"address_2\").isNotNull() \\\n",
    "               , concat_ws(' - ',col(\"address_1\"), col(\"address_2\") )).otherwise(col(\"address_1\")))\n",
    "df_silver.selectExpr(\"address_1\",\"address_2\",\"address_3\", \"address\").show()\n",
    "\n",
    "# as a result the 3 address columns will be dropped so that only 1 remains\n",
    "df_resultado = df_silver.drop(\"address_1\",\"address_2\",\"address_3\")\n",
    "df_resultado.show(10, truncate = 15)"
   ]
  },
  {
   "cell_type": "code",
   "execution_count": 0,
   "metadata": {
    "application/vnd.databricks.v1+cell": {
     "cellMetadata": {
      "byteLimit": 2048000,
      "rowLimit": 10000
     },
     "inputWidgets": {},
     "nuid": "674b897e-5241-41dd-a510-f6bcd77927e9",
     "showTitle": false,
     "tableResultSettingsMap": {},
     "title": ""
    }
   },
   "outputs": [],
   "source": [
    "df_resultado.createOrReplaceTempView(\"vw_breweries_silver\")"
   ]
  },
  {
   "cell_type": "code",
   "execution_count": 0,
   "metadata": {
    "application/vnd.databricks.v1+cell": {
     "cellMetadata": {
      "byteLimit": 2048000,
      "implicitDf": true,
      "rowLimit": 10000
     },
     "inputWidgets": {},
     "nuid": "b1be25dc-ed06-4e24-bfbe-6428c6b08489",
     "showTitle": false,
     "tableResultSettingsMap": {},
     "title": ""
    }
   },
   "outputs": [
    {
     "output_type": "display_data",
     "data": {
      "text/html": [
       "<style scoped>\n",
       "  .table-result-container {\n",
       "    max-height: 300px;\n",
       "    overflow: auto;\n",
       "  }\n",
       "  table, th, td {\n",
       "    border: 1px solid black;\n",
       "    border-collapse: collapse;\n",
       "  }\n",
       "  th, td {\n",
       "    padding: 5px;\n",
       "  }\n",
       "  th {\n",
       "    text-align: left;\n",
       "  }\n",
       "</style><div class='table-result-container'><table class='table-result'><thead style='background-color: white'><tr><th>num_affected_rows</th><th>num_updated_rows</th><th>num_deleted_rows</th><th>num_inserted_rows</th></tr></thead><tbody><tr><td>50</td><td>50</td><td>0</td><td>0</td></tr></tbody></table></div>"
      ]
     },
     "metadata": {
      "application/vnd.databricks.v1+output": {
       "addedWidgets": {},
       "aggData": [],
       "aggError": "",
       "aggOverflow": false,
       "aggSchema": [],
       "aggSeriesLimitReached": false,
       "aggType": "",
       "arguments": {},
       "columnCustomDisplayInfos": {},
       "data": [
        [
         50,
         50,
         0,
         0
        ]
       ],
       "datasetInfos": [],
       "dbfsResultPath": null,
       "isJsonSchema": true,
       "metadata": {},
       "overflow": false,
       "plotOptions": {
        "customPlotOptions": {},
        "displayType": "table",
        "pivotAggregation": null,
        "pivotColumns": null,
        "xColumns": null,
        "yColumns": null
       },
       "removedWidgets": [],
       "schema": [
        {
         "metadata": "{}",
         "name": "num_affected_rows",
         "type": "\"long\""
        },
        {
         "metadata": "{}",
         "name": "num_updated_rows",
         "type": "\"long\""
        },
        {
         "metadata": "{}",
         "name": "num_deleted_rows",
         "type": "\"long\""
        },
        {
         "metadata": "{}",
         "name": "num_inserted_rows",
         "type": "\"long\""
        }
       ],
       "type": "table"
      }
     },
     "output_type": "display_data"
    }
   ],
   "source": [
    "\n",
    "\n",
    "%sql\n",
    "---Writing to the Delta table layer / Silver layer\n",
    "MERGE INTO  brewery_silver.breweries tgt\n",
    "USING vw_breweries_silver upd\n",
    "ON ( tgt.id = upd.id )      \n",
    "WHEN MATCHED THEN\n",
    "  UPDATE SET                         \n",
    "       tgt.name            = upd.name            \n",
    "      ,tgt.brewery_type    = upd.brewery_type         \n",
    "      ,tgt.city            = upd.city            \n",
    "      ,tgt.state_province  = upd.state_province  \n",
    "      ,tgt.postal_code     = upd.postal_code     \n",
    "      ,tgt.country         = upd.country         \n",
    "      ,tgt.longitude       = upd.longitude       \n",
    "      ,tgt.latitude        = upd.latitude        \n",
    "      ,tgt.phone           = upd.phone           \n",
    "      ,tgt.website_url     = upd.website_url     \n",
    "      ,tgt.state           = upd.state           \n",
    "      ,tgt.street          = upd.street   \n",
    "      ,tgt.updatetime      = current_timestamp\n",
    "      ,tgt.address         = upd.address \n",
    "WHEN NOT MATCHED\n",
    "      THEN INSERT (  id            ,name          \n",
    "\t\t\t\t\t,brewery_type      \n",
    "\t\t\t\t\t,city          ,state_province\n",
    "\t\t\t\t\t,postal_code   ,country       \n",
    "\t\t\t\t\t,longitude     ,latitude      \n",
    "\t\t\t\t\t,phone         ,website_url   \n",
    "\t\t\t\t\t,state         ,street  ,  updatetime, address  )\n",
    "   values (  id            ,name          \n",
    "\t\t\t,brewery_type   \n",
    "\t\t\t,city          ,state_province\n",
    "\t\t\t,postal_code   ,country       \n",
    "\t\t\t,longitude     ,latitude      \n",
    "\t\t\t,phone         ,website_url   \n",
    "\t\t\t,state         ,street , current_timestamp, address )         \n"
   ]
  },
  {
   "cell_type": "code",
   "execution_count": 0,
   "metadata": {
    "application/vnd.databricks.v1+cell": {
     "cellMetadata": {
      "byteLimit": 2048000,
      "rowLimit": 10000
     },
     "inputWidgets": {},
     "nuid": "68387e59-cf2f-4f3e-a46e-dfba81446707",
     "showTitle": false,
     "tableResultSettingsMap": {},
     "title": ""
    }
   },
   "outputs": [],
   "source": [
    "# Save/overwrite partitioned by city/location in Delta format\n",
    "df_resultado.write.option(\"overwriteSchema\", \"true\").partitionBy(\"city\").mode(saveMode=\"overwrite\").format(\"delta\").saveAsTable(\"breweries\") \n",
    "    \n",
    "\n"
   ]
  },
  {
   "cell_type": "code",
   "execution_count": 0,
   "metadata": {
    "application/vnd.databricks.v1+cell": {
     "cellMetadata": {},
     "inputWidgets": {},
     "nuid": "37671ac0-86c9-49a1-b3d2-41f8724fc153",
     "showTitle": false,
     "tableResultSettingsMap": {},
     "title": ""
    }
   },
   "outputs": [],
   "source": [
    "\n",
    "# dbutils.notebook.run(\"3_gold_layer\",60)\n"
   ]
  }
 ],
 "metadata": {
  "application/vnd.databricks.v1+notebook": {
   "dashboards": [],
   "environmentMetadata": null,
   "language": "python",
   "notebookMetadata": {
    "mostRecentlyExecutedCommandWithImplicitDF": {
     "commandId": 918750012673879,
     "dataframes": [
      "_sqldf"
     ]
    },
    "pythonIndentUnit": 4
   },
   "notebookName": "2_silver_layer",
   "widgets": {}
  }
 },
 "nbformat": 4,
 "nbformat_minor": 0
}
