{
 "cells": [
  {
   "cell_type": "code",
   "execution_count": 0,
   "metadata": {
    "application/vnd.databricks.v1+cell": {
     "cellMetadata": {
      "byteLimit": 2048000,
      "rowLimit": 10000
     },
     "inputWidgets": {},
     "nuid": "3066ad02-99d8-4ab9-a110-5d885d0a7a59",
     "showTitle": false,
     "tableResultSettingsMap": {},
     "title": ""
    }
   },
   "outputs": [],
   "source": [
    "from pyspark.sql.functions import count\n",
    "\n",
    "# Aggregated view with the quantity of breweries per type and location.\n",
    "df_golden = spark.sql(\"select * from brewery_silver.breweries \")\n",
    "df_golden.groupBy(\"brewery_type\",\"city\").agg( count(\"city\").alias(\"Qtde\") ).createOrReplaceTempView(\"vw_breweries_gold\")\n"
   ]
  },
  {
   "cell_type": "code",
   "execution_count": 0,
   "metadata": {
    "application/vnd.databricks.v1+cell": {
     "cellMetadata": {
      "byteLimit": 2048000,
      "implicitDf": true,
      "rowLimit": 10000
     },
     "inputWidgets": {},
     "nuid": "94d326f4-4c50-4259-bf96-e1f88ef86785",
     "showTitle": false,
     "tableResultSettingsMap": {},
     "title": ""
    }
   },
   "outputs": [
    {
     "output_type": "display_data",
     "data": {
      "text/html": [
       "<style scoped>\n",
       "  .table-result-container {\n",
       "    max-height: 300px;\n",
       "    overflow: auto;\n",
       "  }\n",
       "  table, th, td {\n",
       "    border: 1px solid black;\n",
       "    border-collapse: collapse;\n",
       "  }\n",
       "  th, td {\n",
       "    padding: 5px;\n",
       "  }\n",
       "  th {\n",
       "    text-align: left;\n",
       "  }\n",
       "</style><div class='table-result-container'><table class='table-result'><thead style='background-color: white'><tr><th>brewery_type</th><th>city</th><th>Qtde</th></tr></thead><tbody><tr><td>micro</td><td>Raleigh</td><td>1</td></tr><tr><td>micro</td><td>Westlake Village</td><td>1</td></tr><tr><td>brewpub</td><td>Louisville</td><td>1</td></tr><tr><td>micro</td><td>Gilbert</td><td>1</td></tr><tr><td>brewpub</td><td>Taylors</td><td>1</td></tr><tr><td>brewpub</td><td>Portland</td><td>1</td></tr><tr><td>micro</td><td>Cincinnati</td><td>1</td></tr><tr><td>micro</td><td>Killeshin</td><td>1</td></tr><tr><td>micro</td><td>Jackson</td><td>1</td></tr><tr><td>brewpub</td><td>Williamsville</td><td>1</td></tr><tr><td>closed</td><td>Bellingham</td><td>1</td></tr><tr><td>micro</td><td>Mesa</td><td>1</td></tr><tr><td>micro</td><td>Saint Paul</td><td>1</td></tr><tr><td>micro</td><td>Reno</td><td>1</td></tr><tr><td>micro</td><td>Abington</td><td>1</td></tr><tr><td>large</td><td>Portland</td><td>1</td></tr><tr><td>micro</td><td>Knox</td><td>1</td></tr><tr><td>micro</td><td>Anoka</td><td>1</td></tr><tr><td>large</td><td>Bend</td><td>3</td></tr><tr><td>brewpub</td><td>John Day</td><td>1</td></tr><tr><td>micro</td><td>Houston</td><td>1</td></tr><tr><td>closed</td><td>Petaluma</td><td>1</td></tr><tr><td>large</td><td>Denver</td><td>1</td></tr><tr><td>large</td><td>Boise</td><td>1</td></tr><tr><td>micro</td><td>Castle Rock</td><td>1</td></tr><tr><td>micro</td><td>Coraopolis</td><td>1</td></tr><tr><td>proprietor</td><td>Denver</td><td>1</td></tr><tr><td>micro</td><td>okolona</td><td>1</td></tr><tr><td>contract</td><td>Westminister</td><td>1</td></tr><tr><td>brewpub</td><td>Holland Patent</td><td>1</td></tr><tr><td>micro</td><td>Spotsylvania</td><td>1</td></tr><tr><td>brewpub</td><td>Ocracoke</td><td>1</td></tr><tr><td>micro</td><td>Georgetown</td><td>1</td></tr><tr><td>brewpub</td><td>Mason</td><td>1</td></tr><tr><td>micro</td><td>Crosslake</td><td>1</td></tr><tr><td>micro</td><td>Des Moines</td><td>1</td></tr><tr><td>micro</td><td>Saint Albans</td><td>1</td></tr><tr><td>brewpub</td><td>Quilcene</td><td>1</td></tr><tr><td>large</td><td>San Diego</td><td>1</td></tr><tr><td>micro</td><td>Mount Pleasant</td><td>1</td></tr><tr><td>micro</td><td>Austin</td><td>1</td></tr><tr><td>micro</td><td>Norman</td><td>1</td></tr><tr><td>micro</td><td>Tucson</td><td>1</td></tr><tr><td>micro</td><td>Assumption</td><td>1</td></tr><tr><td>micro</td><td>Mariposa</td><td>1</td></tr><tr><td>micro</td><td>Kenmore</td><td>1</td></tr><tr><td>micro</td><td>Hammond</td><td>1</td></tr><tr><td>micro</td><td>Gary</td><td>1</td></tr><tr><td>micro</td><td>Milwaukee</td><td>1</td></tr></tbody></table></div>"
      ]
     },
     "metadata": {
      "application/vnd.databricks.v1+output": {
       "addedWidgets": {},
       "aggData": [],
       "aggError": "",
       "aggOverflow": false,
       "aggSchema": [],
       "aggSeriesLimitReached": false,
       "aggType": "",
       "arguments": {},
       "columnCustomDisplayInfos": {},
       "data": [
        [
         "micro",
         "Raleigh",
         1
        ],
        [
         "micro",
         "Westlake Village",
         1
        ],
        [
         "brewpub",
         "Louisville",
         1
        ],
        [
         "micro",
         "Gilbert",
         1
        ],
        [
         "brewpub",
         "Taylors",
         1
        ],
        [
         "brewpub",
         "Portland",
         1
        ],
        [
         "micro",
         "Cincinnati",
         1
        ],
        [
         "micro",
         "Killeshin",
         1
        ],
        [
         "micro",
         "Jackson",
         1
        ],
        [
         "brewpub",
         "Williamsville",
         1
        ],
        [
         "closed",
         "Bellingham",
         1
        ],
        [
         "micro",
         "Mesa",
         1
        ],
        [
         "micro",
         "Saint Paul",
         1
        ],
        [
         "micro",
         "Reno",
         1
        ],
        [
         "micro",
         "Abington",
         1
        ],
        [
         "large",
         "Portland",
         1
        ],
        [
         "micro",
         "Knox",
         1
        ],
        [
         "micro",
         "Anoka",
         1
        ],
        [
         "large",
         "Bend",
         3
        ],
        [
         "brewpub",
         "John Day",
         1
        ],
        [
         "micro",
         "Houston",
         1
        ],
        [
         "closed",
         "Petaluma",
         1
        ],
        [
         "large",
         "Denver",
         1
        ],
        [
         "large",
         "Boise",
         1
        ],
        [
         "micro",
         "Castle Rock",
         1
        ],
        [
         "micro",
         "Coraopolis",
         1
        ],
        [
         "proprietor",
         "Denver",
         1
        ],
        [
         "micro",
         "okolona",
         1
        ],
        [
         "contract",
         "Westminister",
         1
        ],
        [
         "brewpub",
         "Holland Patent",
         1
        ],
        [
         "micro",
         "Spotsylvania",
         1
        ],
        [
         "brewpub",
         "Ocracoke",
         1
        ],
        [
         "micro",
         "Georgetown",
         1
        ],
        [
         "brewpub",
         "Mason",
         1
        ],
        [
         "micro",
         "Crosslake",
         1
        ],
        [
         "micro",
         "Des Moines",
         1
        ],
        [
         "micro",
         "Saint Albans",
         1
        ],
        [
         "brewpub",
         "Quilcene",
         1
        ],
        [
         "large",
         "San Diego",
         1
        ],
        [
         "micro",
         "Mount Pleasant",
         1
        ],
        [
         "micro",
         "Austin",
         1
        ],
        [
         "micro",
         "Norman",
         1
        ],
        [
         "micro",
         "Tucson",
         1
        ],
        [
         "micro",
         "Assumption",
         1
        ],
        [
         "micro",
         "Mariposa",
         1
        ],
        [
         "micro",
         "Kenmore",
         1
        ],
        [
         "micro",
         "Hammond",
         1
        ],
        [
         "micro",
         "Gary",
         1
        ],
        [
         "micro",
         "Milwaukee",
         1
        ]
       ],
       "datasetInfos": [],
       "dbfsResultPath": null,
       "isJsonSchema": true,
       "metadata": {},
       "overflow": false,
       "plotOptions": {
        "customPlotOptions": {},
        "displayType": "table",
        "pivotAggregation": null,
        "pivotColumns": null,
        "xColumns": null,
        "yColumns": null
       },
       "removedWidgets": [],
       "schema": [
        {
         "metadata": "{}",
         "name": "brewery_type",
         "type": "\"string\""
        },
        {
         "metadata": "{}",
         "name": "city",
         "type": "\"string\""
        },
        {
         "metadata": "{}",
         "name": "Qtde",
         "type": "\"long\""
        }
       ],
       "type": "table"
      }
     },
     "output_type": "display_data"
    }
   ],
   "source": [
    "%sql\n",
    "select * from vw_breweries_gold"
   ]
  },
  {
   "cell_type": "code",
   "execution_count": 0,
   "metadata": {
    "application/vnd.databricks.v1+cell": {
     "cellMetadata": {
      "byteLimit": 2048000,
      "implicitDf": true,
      "rowLimit": 10000
     },
     "inputWidgets": {},
     "nuid": "f6d205e2-7705-4ebc-b719-93424f3bc20b",
     "showTitle": false,
     "tableResultSettingsMap": {},
     "title": ""
    }
   },
   "outputs": [
    {
     "output_type": "display_data",
     "data": {
      "text/html": [
       "<style scoped>\n",
       "  .table-result-container {\n",
       "    max-height: 300px;\n",
       "    overflow: auto;\n",
       "  }\n",
       "  table, th, td {\n",
       "    border: 1px solid black;\n",
       "    border-collapse: collapse;\n",
       "  }\n",
       "  th, td {\n",
       "    padding: 5px;\n",
       "  }\n",
       "  th {\n",
       "    text-align: left;\n",
       "  }\n",
       "</style><div class='table-result-container'><table class='table-result'><thead style='background-color: white'><tr><th>num_affected_rows</th><th>num_updated_rows</th><th>num_deleted_rows</th><th>num_inserted_rows</th></tr></thead><tbody><tr><td>49</td><td>0</td><td>0</td><td>49</td></tr></tbody></table></div>"
      ]
     },
     "metadata": {
      "application/vnd.databricks.v1+output": {
       "addedWidgets": {},
       "aggData": [],
       "aggError": "",
       "aggOverflow": false,
       "aggSchema": [],
       "aggSeriesLimitReached": false,
       "aggType": "",
       "arguments": {},
       "columnCustomDisplayInfos": {},
       "data": [
        [
         49,
         0,
         0,
         49
        ]
       ],
       "datasetInfos": [],
       "dbfsResultPath": null,
       "isJsonSchema": true,
       "metadata": {},
       "overflow": false,
       "plotOptions": {
        "customPlotOptions": {},
        "displayType": "table",
        "pivotAggregation": null,
        "pivotColumns": null,
        "xColumns": null,
        "yColumns": null
       },
       "removedWidgets": [],
       "schema": [
        {
         "metadata": "{}",
         "name": "num_affected_rows",
         "type": "\"long\""
        },
        {
         "metadata": "{}",
         "name": "num_updated_rows",
         "type": "\"long\""
        },
        {
         "metadata": "{}",
         "name": "num_deleted_rows",
         "type": "\"long\""
        },
        {
         "metadata": "{}",
         "name": "num_inserted_rows",
         "type": "\"long\""
        }
       ],
       "type": "table"
      }
     },
     "output_type": "display_data"
    }
   ],
   "source": [
    "\n",
    "\n",
    "%sql\n",
    "---Writing to the Delta table layer / Silver layer\n",
    "MERGE INTO  brewery_gold.breweries tgt\n",
    "USING vw_breweries_gold upd\n",
    "ON ( tgt.brewery_type = upd.brewery_type and\n",
    "     tgt.city         = upd.city \n",
    " )      \n",
    "WHEN MATCHED THEN\n",
    "  UPDATE SET                         \n",
    "       tgt.qtde     = upd.qtde           \n",
    "     \n",
    "WHEN NOT MATCHED\n",
    "      THEN INSERT ( brewery_type , city, qtde   )\n",
    "   values (   brewery_type , city, qtde       \n",
    "\t\t\t)         \n"
   ]
  }
 ],
 "metadata": {
  "application/vnd.databricks.v1+notebook": {
   "dashboards": [],
   "environmentMetadata": null,
   "language": "python",
   "notebookMetadata": {
    "mostRecentlyExecutedCommandWithImplicitDF": {
     "commandId": 3764757171360409,
     "dataframes": [
      "_sqldf"
     ]
    },
    "pythonIndentUnit": 4
   },
   "notebookName": "3_gold_layer",
   "widgets": {}
  }
 },
 "nbformat": 4,
 "nbformat_minor": 0
}
